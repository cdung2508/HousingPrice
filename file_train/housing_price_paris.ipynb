{
  "nbformat": 4,
  "nbformat_minor": 0,
  "metadata": {
    "colab": {
      "name": "housing_price_paris.ipynb",
      "provenance": [],
      "collapsed_sections": []
    },
    "kernelspec": {
      "name": "python3",
      "display_name": "Python 3"
    },
    "language_info": {
      "name": "python"
    }
  },
  "cells": [
    {
      "cell_type": "code",
      "source": [
        "# Import data\n",
        "\n",
        "import pandas as pd\n",
        "\n",
        "data = pd.read_csv(\"/content/drive/MyDrive/data/ParisHousing.csv\")\n",
        "data.head()"
      ],
      "metadata": {
        "id": "-mkdntC3LRVb",
        "colab": {
          "base_uri": "https://localhost:8080/",
          "height": 270
        },
        "outputId": "5950dac9-b417-49ea-cb5e-c7d6b30efabb"
      },
      "execution_count": 549,
      "outputs": [
        {
          "output_type": "execute_result",
          "data": {
            "text/html": [
              "\n",
              "  <div id=\"df-6346154b-d3d4-4817-9d4c-ae9a0cd4b896\">\n",
              "    <div class=\"colab-df-container\">\n",
              "      <div>\n",
              "<style scoped>\n",
              "    .dataframe tbody tr th:only-of-type {\n",
              "        vertical-align: middle;\n",
              "    }\n",
              "\n",
              "    .dataframe tbody tr th {\n",
              "        vertical-align: top;\n",
              "    }\n",
              "\n",
              "    .dataframe thead th {\n",
              "        text-align: right;\n",
              "    }\n",
              "</style>\n",
              "<table border=\"1\" class=\"dataframe\">\n",
              "  <thead>\n",
              "    <tr style=\"text-align: right;\">\n",
              "      <th></th>\n",
              "      <th>squareMeters</th>\n",
              "      <th>numberOfRooms</th>\n",
              "      <th>hasYard</th>\n",
              "      <th>hasPool</th>\n",
              "      <th>floors</th>\n",
              "      <th>cityCode</th>\n",
              "      <th>cityPartRange</th>\n",
              "      <th>numPrevOwners</th>\n",
              "      <th>made</th>\n",
              "      <th>isNewBuilt</th>\n",
              "      <th>hasStormProtector</th>\n",
              "      <th>basement</th>\n",
              "      <th>attic</th>\n",
              "      <th>garage</th>\n",
              "      <th>hasStorageRoom</th>\n",
              "      <th>hasGuestRoom</th>\n",
              "      <th>price</th>\n",
              "    </tr>\n",
              "  </thead>\n",
              "  <tbody>\n",
              "    <tr>\n",
              "      <th>0</th>\n",
              "      <td>75523</td>\n",
              "      <td>3</td>\n",
              "      <td>0</td>\n",
              "      <td>1</td>\n",
              "      <td>63</td>\n",
              "      <td>9373</td>\n",
              "      <td>3</td>\n",
              "      <td>8</td>\n",
              "      <td>2005</td>\n",
              "      <td>0</td>\n",
              "      <td>1</td>\n",
              "      <td>4313</td>\n",
              "      <td>9005</td>\n",
              "      <td>956</td>\n",
              "      <td>0</td>\n",
              "      <td>7</td>\n",
              "      <td>7559081.5</td>\n",
              "    </tr>\n",
              "    <tr>\n",
              "      <th>1</th>\n",
              "      <td>80771</td>\n",
              "      <td>39</td>\n",
              "      <td>1</td>\n",
              "      <td>1</td>\n",
              "      <td>98</td>\n",
              "      <td>39381</td>\n",
              "      <td>8</td>\n",
              "      <td>6</td>\n",
              "      <td>2015</td>\n",
              "      <td>1</td>\n",
              "      <td>0</td>\n",
              "      <td>3653</td>\n",
              "      <td>2436</td>\n",
              "      <td>128</td>\n",
              "      <td>1</td>\n",
              "      <td>2</td>\n",
              "      <td>8085989.5</td>\n",
              "    </tr>\n",
              "    <tr>\n",
              "      <th>2</th>\n",
              "      <td>55712</td>\n",
              "      <td>58</td>\n",
              "      <td>0</td>\n",
              "      <td>1</td>\n",
              "      <td>19</td>\n",
              "      <td>34457</td>\n",
              "      <td>6</td>\n",
              "      <td>8</td>\n",
              "      <td>2021</td>\n",
              "      <td>0</td>\n",
              "      <td>0</td>\n",
              "      <td>2937</td>\n",
              "      <td>8852</td>\n",
              "      <td>135</td>\n",
              "      <td>1</td>\n",
              "      <td>9</td>\n",
              "      <td>5574642.1</td>\n",
              "    </tr>\n",
              "    <tr>\n",
              "      <th>3</th>\n",
              "      <td>32316</td>\n",
              "      <td>47</td>\n",
              "      <td>0</td>\n",
              "      <td>0</td>\n",
              "      <td>6</td>\n",
              "      <td>27939</td>\n",
              "      <td>10</td>\n",
              "      <td>4</td>\n",
              "      <td>2012</td>\n",
              "      <td>0</td>\n",
              "      <td>1</td>\n",
              "      <td>659</td>\n",
              "      <td>7141</td>\n",
              "      <td>359</td>\n",
              "      <td>0</td>\n",
              "      <td>3</td>\n",
              "      <td>3232561.2</td>\n",
              "    </tr>\n",
              "    <tr>\n",
              "      <th>4</th>\n",
              "      <td>70429</td>\n",
              "      <td>19</td>\n",
              "      <td>1</td>\n",
              "      <td>1</td>\n",
              "      <td>90</td>\n",
              "      <td>38045</td>\n",
              "      <td>3</td>\n",
              "      <td>7</td>\n",
              "      <td>1990</td>\n",
              "      <td>1</td>\n",
              "      <td>0</td>\n",
              "      <td>8435</td>\n",
              "      <td>2429</td>\n",
              "      <td>292</td>\n",
              "      <td>1</td>\n",
              "      <td>4</td>\n",
              "      <td>7055052.0</td>\n",
              "    </tr>\n",
              "  </tbody>\n",
              "</table>\n",
              "</div>\n",
              "      <button class=\"colab-df-convert\" onclick=\"convertToInteractive('df-6346154b-d3d4-4817-9d4c-ae9a0cd4b896')\"\n",
              "              title=\"Convert this dataframe to an interactive table.\"\n",
              "              style=\"display:none;\">\n",
              "        \n",
              "  <svg xmlns=\"http://www.w3.org/2000/svg\" height=\"24px\"viewBox=\"0 0 24 24\"\n",
              "       width=\"24px\">\n",
              "    <path d=\"M0 0h24v24H0V0z\" fill=\"none\"/>\n",
              "    <path d=\"M18.56 5.44l.94 2.06.94-2.06 2.06-.94-2.06-.94-.94-2.06-.94 2.06-2.06.94zm-11 1L8.5 8.5l.94-2.06 2.06-.94-2.06-.94L8.5 2.5l-.94 2.06-2.06.94zm10 10l.94 2.06.94-2.06 2.06-.94-2.06-.94-.94-2.06-.94 2.06-2.06.94z\"/><path d=\"M17.41 7.96l-1.37-1.37c-.4-.4-.92-.59-1.43-.59-.52 0-1.04.2-1.43.59L10.3 9.45l-7.72 7.72c-.78.78-.78 2.05 0 2.83L4 21.41c.39.39.9.59 1.41.59.51 0 1.02-.2 1.41-.59l7.78-7.78 2.81-2.81c.8-.78.8-2.07 0-2.86zM5.41 20L4 18.59l7.72-7.72 1.47 1.35L5.41 20z\"/>\n",
              "  </svg>\n",
              "      </button>\n",
              "      \n",
              "  <style>\n",
              "    .colab-df-container {\n",
              "      display:flex;\n",
              "      flex-wrap:wrap;\n",
              "      gap: 12px;\n",
              "    }\n",
              "\n",
              "    .colab-df-convert {\n",
              "      background-color: #E8F0FE;\n",
              "      border: none;\n",
              "      border-radius: 50%;\n",
              "      cursor: pointer;\n",
              "      display: none;\n",
              "      fill: #1967D2;\n",
              "      height: 32px;\n",
              "      padding: 0 0 0 0;\n",
              "      width: 32px;\n",
              "    }\n",
              "\n",
              "    .colab-df-convert:hover {\n",
              "      background-color: #E2EBFA;\n",
              "      box-shadow: 0px 1px 2px rgba(60, 64, 67, 0.3), 0px 1px 3px 1px rgba(60, 64, 67, 0.15);\n",
              "      fill: #174EA6;\n",
              "    }\n",
              "\n",
              "    [theme=dark] .colab-df-convert {\n",
              "      background-color: #3B4455;\n",
              "      fill: #D2E3FC;\n",
              "    }\n",
              "\n",
              "    [theme=dark] .colab-df-convert:hover {\n",
              "      background-color: #434B5C;\n",
              "      box-shadow: 0px 1px 3px 1px rgba(0, 0, 0, 0.15);\n",
              "      filter: drop-shadow(0px 1px 2px rgba(0, 0, 0, 0.3));\n",
              "      fill: #FFFFFF;\n",
              "    }\n",
              "  </style>\n",
              "\n",
              "      <script>\n",
              "        const buttonEl =\n",
              "          document.querySelector('#df-6346154b-d3d4-4817-9d4c-ae9a0cd4b896 button.colab-df-convert');\n",
              "        buttonEl.style.display =\n",
              "          google.colab.kernel.accessAllowed ? 'block' : 'none';\n",
              "\n",
              "        async function convertToInteractive(key) {\n",
              "          const element = document.querySelector('#df-6346154b-d3d4-4817-9d4c-ae9a0cd4b896');\n",
              "          const dataTable =\n",
              "            await google.colab.kernel.invokeFunction('convertToInteractive',\n",
              "                                                     [key], {});\n",
              "          if (!dataTable) return;\n",
              "\n",
              "          const docLinkHtml = 'Like what you see? Visit the ' +\n",
              "            '<a target=\"_blank\" href=https://colab.research.google.com/notebooks/data_table.ipynb>data table notebook</a>'\n",
              "            + ' to learn more about interactive tables.';\n",
              "          element.innerHTML = '';\n",
              "          dataTable['output_type'] = 'display_data';\n",
              "          await google.colab.output.renderOutput(dataTable, element);\n",
              "          const docLink = document.createElement('div');\n",
              "          docLink.innerHTML = docLinkHtml;\n",
              "          element.appendChild(docLink);\n",
              "        }\n",
              "      </script>\n",
              "    </div>\n",
              "  </div>\n",
              "  "
            ],
            "text/plain": [
              "   squareMeters  numberOfRooms  ...  hasGuestRoom      price\n",
              "0         75523              3  ...             7  7559081.5\n",
              "1         80771             39  ...             2  8085989.5\n",
              "2         55712             58  ...             9  5574642.1\n",
              "3         32316             47  ...             3  3232561.2\n",
              "4         70429             19  ...             4  7055052.0\n",
              "\n",
              "[5 rows x 17 columns]"
            ]
          },
          "metadata": {},
          "execution_count": 549
        }
      ]
    },
    {
      "cell_type": "code",
      "source": [
        "data['made'].value_counts()"
      ],
      "metadata": {
        "colab": {
          "base_uri": "https://localhost:8080/"
        },
        "id": "tvTYlsgGTp8t",
        "outputId": "84c038b9-ca99-4bf6-f4bd-eb33c1a7b667"
      },
      "execution_count": 550,
      "outputs": [
        {
          "output_type": "execute_result",
          "data": {
            "text/plain": [
              "1992    356\n",
              "2013    352\n",
              "2020    336\n",
              "2018    334\n",
              "2001    332\n",
              "2003    332\n",
              "1996    327\n",
              "1991    324\n",
              "2009    324\n",
              "2011    321\n",
              "2019    321\n",
              "1993    320\n",
              "1998    318\n",
              "1990    317\n",
              "1994    312\n",
              "2014    312\n",
              "2004    307\n",
              "2016    307\n",
              "2015    305\n",
              "2012    305\n",
              "2021    304\n",
              "2007    302\n",
              "2008    302\n",
              "1997    296\n",
              "2005    296\n",
              "2006    296\n",
              "2000    295\n",
              "1999    293\n",
              "2010    291\n",
              "2002    290\n",
              "2017    288\n",
              "1995    285\n",
              "Name: made, dtype: int64"
            ]
          },
          "metadata": {},
          "execution_count": 550
        }
      ]
    },
    {
      "cell_type": "code",
      "source": [
        "data.info()"
      ],
      "metadata": {
        "colab": {
          "base_uri": "https://localhost:8080/"
        },
        "id": "vHtNYsETFf-_",
        "outputId": "a412f168-59b8-4071-8016-1abdc1bd5fdc"
      },
      "execution_count": 551,
      "outputs": [
        {
          "output_type": "stream",
          "name": "stdout",
          "text": [
            "<class 'pandas.core.frame.DataFrame'>\n",
            "RangeIndex: 10000 entries, 0 to 9999\n",
            "Data columns (total 17 columns):\n",
            " #   Column             Non-Null Count  Dtype  \n",
            "---  ------             --------------  -----  \n",
            " 0   squareMeters       10000 non-null  int64  \n",
            " 1   numberOfRooms      10000 non-null  int64  \n",
            " 2   hasYard            10000 non-null  int64  \n",
            " 3   hasPool            10000 non-null  int64  \n",
            " 4   floors             10000 non-null  int64  \n",
            " 5   cityCode           10000 non-null  int64  \n",
            " 6   cityPartRange      10000 non-null  int64  \n",
            " 7   numPrevOwners      10000 non-null  int64  \n",
            " 8   made               10000 non-null  int64  \n",
            " 9   isNewBuilt         10000 non-null  int64  \n",
            " 10  hasStormProtector  10000 non-null  int64  \n",
            " 11  basement           10000 non-null  int64  \n",
            " 12  attic              10000 non-null  int64  \n",
            " 13  garage             10000 non-null  int64  \n",
            " 14  hasStorageRoom     10000 non-null  int64  \n",
            " 15  hasGuestRoom       10000 non-null  int64  \n",
            " 16  price              10000 non-null  float64\n",
            "dtypes: float64(1), int64(16)\n",
            "memory usage: 1.3 MB\n"
          ]
        }
      ]
    },
    {
      "cell_type": "code",
      "source": [
        "data.describe()"
      ],
      "metadata": {
        "colab": {
          "base_uri": "https://localhost:8080/",
          "height": 364
        },
        "id": "6FZlU5WdFuzc",
        "outputId": "b1ce580f-03b1-4ddf-a573-aacce44842a8"
      },
      "execution_count": 552,
      "outputs": [
        {
          "output_type": "execute_result",
          "data": {
            "text/html": [
              "\n",
              "  <div id=\"df-298be0c7-e8f3-44b3-81f9-370e3c4fe910\">\n",
              "    <div class=\"colab-df-container\">\n",
              "      <div>\n",
              "<style scoped>\n",
              "    .dataframe tbody tr th:only-of-type {\n",
              "        vertical-align: middle;\n",
              "    }\n",
              "\n",
              "    .dataframe tbody tr th {\n",
              "        vertical-align: top;\n",
              "    }\n",
              "\n",
              "    .dataframe thead th {\n",
              "        text-align: right;\n",
              "    }\n",
              "</style>\n",
              "<table border=\"1\" class=\"dataframe\">\n",
              "  <thead>\n",
              "    <tr style=\"text-align: right;\">\n",
              "      <th></th>\n",
              "      <th>squareMeters</th>\n",
              "      <th>numberOfRooms</th>\n",
              "      <th>hasYard</th>\n",
              "      <th>hasPool</th>\n",
              "      <th>floors</th>\n",
              "      <th>cityCode</th>\n",
              "      <th>cityPartRange</th>\n",
              "      <th>numPrevOwners</th>\n",
              "      <th>made</th>\n",
              "      <th>isNewBuilt</th>\n",
              "      <th>hasStormProtector</th>\n",
              "      <th>basement</th>\n",
              "      <th>attic</th>\n",
              "      <th>garage</th>\n",
              "      <th>hasStorageRoom</th>\n",
              "      <th>hasGuestRoom</th>\n",
              "      <th>price</th>\n",
              "    </tr>\n",
              "  </thead>\n",
              "  <tbody>\n",
              "    <tr>\n",
              "      <th>count</th>\n",
              "      <td>10000.00000</td>\n",
              "      <td>10000.000000</td>\n",
              "      <td>10000.000000</td>\n",
              "      <td>10000.000000</td>\n",
              "      <td>10000.000000</td>\n",
              "      <td>10000.000000</td>\n",
              "      <td>10000.000000</td>\n",
              "      <td>10000.000000</td>\n",
              "      <td>10000.00000</td>\n",
              "      <td>10000.000000</td>\n",
              "      <td>10000.000000</td>\n",
              "      <td>10000.000000</td>\n",
              "      <td>10000.00000</td>\n",
              "      <td>10000.00000</td>\n",
              "      <td>10000.000000</td>\n",
              "      <td>10000.00000</td>\n",
              "      <td>1.000000e+04</td>\n",
              "    </tr>\n",
              "    <tr>\n",
              "      <th>mean</th>\n",
              "      <td>49870.13120</td>\n",
              "      <td>50.358400</td>\n",
              "      <td>0.508700</td>\n",
              "      <td>0.496800</td>\n",
              "      <td>50.276300</td>\n",
              "      <td>50225.486100</td>\n",
              "      <td>5.510100</td>\n",
              "      <td>5.521700</td>\n",
              "      <td>2005.48850</td>\n",
              "      <td>0.499100</td>\n",
              "      <td>0.499900</td>\n",
              "      <td>5033.103900</td>\n",
              "      <td>5028.01060</td>\n",
              "      <td>553.12120</td>\n",
              "      <td>0.503000</td>\n",
              "      <td>4.99460</td>\n",
              "      <td>4.993448e+06</td>\n",
              "    </tr>\n",
              "    <tr>\n",
              "      <th>std</th>\n",
              "      <td>28774.37535</td>\n",
              "      <td>28.816696</td>\n",
              "      <td>0.499949</td>\n",
              "      <td>0.500015</td>\n",
              "      <td>28.889171</td>\n",
              "      <td>29006.675799</td>\n",
              "      <td>2.872024</td>\n",
              "      <td>2.856667</td>\n",
              "      <td>9.30809</td>\n",
              "      <td>0.500024</td>\n",
              "      <td>0.500025</td>\n",
              "      <td>2876.729545</td>\n",
              "      <td>2894.33221</td>\n",
              "      <td>262.05017</td>\n",
              "      <td>0.500016</td>\n",
              "      <td>3.17641</td>\n",
              "      <td>2.877424e+06</td>\n",
              "    </tr>\n",
              "    <tr>\n",
              "      <th>min</th>\n",
              "      <td>89.00000</td>\n",
              "      <td>1.000000</td>\n",
              "      <td>0.000000</td>\n",
              "      <td>0.000000</td>\n",
              "      <td>1.000000</td>\n",
              "      <td>3.000000</td>\n",
              "      <td>1.000000</td>\n",
              "      <td>1.000000</td>\n",
              "      <td>1990.00000</td>\n",
              "      <td>0.000000</td>\n",
              "      <td>0.000000</td>\n",
              "      <td>0.000000</td>\n",
              "      <td>1.00000</td>\n",
              "      <td>100.00000</td>\n",
              "      <td>0.000000</td>\n",
              "      <td>0.00000</td>\n",
              "      <td>1.031350e+04</td>\n",
              "    </tr>\n",
              "    <tr>\n",
              "      <th>25%</th>\n",
              "      <td>25098.50000</td>\n",
              "      <td>25.000000</td>\n",
              "      <td>0.000000</td>\n",
              "      <td>0.000000</td>\n",
              "      <td>25.000000</td>\n",
              "      <td>24693.750000</td>\n",
              "      <td>3.000000</td>\n",
              "      <td>3.000000</td>\n",
              "      <td>1997.00000</td>\n",
              "      <td>0.000000</td>\n",
              "      <td>0.000000</td>\n",
              "      <td>2559.750000</td>\n",
              "      <td>2512.00000</td>\n",
              "      <td>327.75000</td>\n",
              "      <td>0.000000</td>\n",
              "      <td>2.00000</td>\n",
              "      <td>2.516402e+06</td>\n",
              "    </tr>\n",
              "    <tr>\n",
              "      <th>50%</th>\n",
              "      <td>50105.50000</td>\n",
              "      <td>50.000000</td>\n",
              "      <td>1.000000</td>\n",
              "      <td>0.000000</td>\n",
              "      <td>50.000000</td>\n",
              "      <td>50693.000000</td>\n",
              "      <td>5.000000</td>\n",
              "      <td>5.000000</td>\n",
              "      <td>2005.50000</td>\n",
              "      <td>0.000000</td>\n",
              "      <td>0.000000</td>\n",
              "      <td>5092.500000</td>\n",
              "      <td>5045.00000</td>\n",
              "      <td>554.00000</td>\n",
              "      <td>1.000000</td>\n",
              "      <td>5.00000</td>\n",
              "      <td>5.016180e+06</td>\n",
              "    </tr>\n",
              "    <tr>\n",
              "      <th>75%</th>\n",
              "      <td>74609.75000</td>\n",
              "      <td>75.000000</td>\n",
              "      <td>1.000000</td>\n",
              "      <td>1.000000</td>\n",
              "      <td>76.000000</td>\n",
              "      <td>75683.250000</td>\n",
              "      <td>8.000000</td>\n",
              "      <td>8.000000</td>\n",
              "      <td>2014.00000</td>\n",
              "      <td>1.000000</td>\n",
              "      <td>1.000000</td>\n",
              "      <td>7511.250000</td>\n",
              "      <td>7540.50000</td>\n",
              "      <td>777.25000</td>\n",
              "      <td>1.000000</td>\n",
              "      <td>8.00000</td>\n",
              "      <td>7.469092e+06</td>\n",
              "    </tr>\n",
              "    <tr>\n",
              "      <th>max</th>\n",
              "      <td>99999.00000</td>\n",
              "      <td>100.000000</td>\n",
              "      <td>1.000000</td>\n",
              "      <td>1.000000</td>\n",
              "      <td>100.000000</td>\n",
              "      <td>99953.000000</td>\n",
              "      <td>10.000000</td>\n",
              "      <td>10.000000</td>\n",
              "      <td>2021.00000</td>\n",
              "      <td>1.000000</td>\n",
              "      <td>1.000000</td>\n",
              "      <td>10000.000000</td>\n",
              "      <td>10000.00000</td>\n",
              "      <td>1000.00000</td>\n",
              "      <td>1.000000</td>\n",
              "      <td>10.00000</td>\n",
              "      <td>1.000677e+07</td>\n",
              "    </tr>\n",
              "  </tbody>\n",
              "</table>\n",
              "</div>\n",
              "      <button class=\"colab-df-convert\" onclick=\"convertToInteractive('df-298be0c7-e8f3-44b3-81f9-370e3c4fe910')\"\n",
              "              title=\"Convert this dataframe to an interactive table.\"\n",
              "              style=\"display:none;\">\n",
              "        \n",
              "  <svg xmlns=\"http://www.w3.org/2000/svg\" height=\"24px\"viewBox=\"0 0 24 24\"\n",
              "       width=\"24px\">\n",
              "    <path d=\"M0 0h24v24H0V0z\" fill=\"none\"/>\n",
              "    <path d=\"M18.56 5.44l.94 2.06.94-2.06 2.06-.94-2.06-.94-.94-2.06-.94 2.06-2.06.94zm-11 1L8.5 8.5l.94-2.06 2.06-.94-2.06-.94L8.5 2.5l-.94 2.06-2.06.94zm10 10l.94 2.06.94-2.06 2.06-.94-2.06-.94-.94-2.06-.94 2.06-2.06.94z\"/><path d=\"M17.41 7.96l-1.37-1.37c-.4-.4-.92-.59-1.43-.59-.52 0-1.04.2-1.43.59L10.3 9.45l-7.72 7.72c-.78.78-.78 2.05 0 2.83L4 21.41c.39.39.9.59 1.41.59.51 0 1.02-.2 1.41-.59l7.78-7.78 2.81-2.81c.8-.78.8-2.07 0-2.86zM5.41 20L4 18.59l7.72-7.72 1.47 1.35L5.41 20z\"/>\n",
              "  </svg>\n",
              "      </button>\n",
              "      \n",
              "  <style>\n",
              "    .colab-df-container {\n",
              "      display:flex;\n",
              "      flex-wrap:wrap;\n",
              "      gap: 12px;\n",
              "    }\n",
              "\n",
              "    .colab-df-convert {\n",
              "      background-color: #E8F0FE;\n",
              "      border: none;\n",
              "      border-radius: 50%;\n",
              "      cursor: pointer;\n",
              "      display: none;\n",
              "      fill: #1967D2;\n",
              "      height: 32px;\n",
              "      padding: 0 0 0 0;\n",
              "      width: 32px;\n",
              "    }\n",
              "\n",
              "    .colab-df-convert:hover {\n",
              "      background-color: #E2EBFA;\n",
              "      box-shadow: 0px 1px 2px rgba(60, 64, 67, 0.3), 0px 1px 3px 1px rgba(60, 64, 67, 0.15);\n",
              "      fill: #174EA6;\n",
              "    }\n",
              "\n",
              "    [theme=dark] .colab-df-convert {\n",
              "      background-color: #3B4455;\n",
              "      fill: #D2E3FC;\n",
              "    }\n",
              "\n",
              "    [theme=dark] .colab-df-convert:hover {\n",
              "      background-color: #434B5C;\n",
              "      box-shadow: 0px 1px 3px 1px rgba(0, 0, 0, 0.15);\n",
              "      filter: drop-shadow(0px 1px 2px rgba(0, 0, 0, 0.3));\n",
              "      fill: #FFFFFF;\n",
              "    }\n",
              "  </style>\n",
              "\n",
              "      <script>\n",
              "        const buttonEl =\n",
              "          document.querySelector('#df-298be0c7-e8f3-44b3-81f9-370e3c4fe910 button.colab-df-convert');\n",
              "        buttonEl.style.display =\n",
              "          google.colab.kernel.accessAllowed ? 'block' : 'none';\n",
              "\n",
              "        async function convertToInteractive(key) {\n",
              "          const element = document.querySelector('#df-298be0c7-e8f3-44b3-81f9-370e3c4fe910');\n",
              "          const dataTable =\n",
              "            await google.colab.kernel.invokeFunction('convertToInteractive',\n",
              "                                                     [key], {});\n",
              "          if (!dataTable) return;\n",
              "\n",
              "          const docLinkHtml = 'Like what you see? Visit the ' +\n",
              "            '<a target=\"_blank\" href=https://colab.research.google.com/notebooks/data_table.ipynb>data table notebook</a>'\n",
              "            + ' to learn more about interactive tables.';\n",
              "          element.innerHTML = '';\n",
              "          dataTable['output_type'] = 'display_data';\n",
              "          await google.colab.output.renderOutput(dataTable, element);\n",
              "          const docLink = document.createElement('div');\n",
              "          docLink.innerHTML = docLinkHtml;\n",
              "          element.appendChild(docLink);\n",
              "        }\n",
              "      </script>\n",
              "    </div>\n",
              "  </div>\n",
              "  "
            ],
            "text/plain": [
              "       squareMeters  numberOfRooms  ...  hasGuestRoom         price\n",
              "count   10000.00000   10000.000000  ...   10000.00000  1.000000e+04\n",
              "mean    49870.13120      50.358400  ...       4.99460  4.993448e+06\n",
              "std     28774.37535      28.816696  ...       3.17641  2.877424e+06\n",
              "min        89.00000       1.000000  ...       0.00000  1.031350e+04\n",
              "25%     25098.50000      25.000000  ...       2.00000  2.516402e+06\n",
              "50%     50105.50000      50.000000  ...       5.00000  5.016180e+06\n",
              "75%     74609.75000      75.000000  ...       8.00000  7.469092e+06\n",
              "max     99999.00000     100.000000  ...      10.00000  1.000677e+07\n",
              "\n",
              "[8 rows x 17 columns]"
            ]
          },
          "metadata": {},
          "execution_count": 552
        }
      ]
    },
    {
      "cell_type": "code",
      "source": [
        "# visualize\n",
        "import matplotlib.pyplot as plt\n",
        "\n",
        "data.hist(figsize=(20, 15));"
      ],
      "metadata": {
        "colab": {
          "base_uri": "https://localhost:8080/",
          "height": 851
        },
        "id": "Mt8HS6tiFzjP",
        "outputId": "4b12896c-a69b-4e7b-ed3f-6eac591b57be"
      },
      "execution_count": 553,
      "outputs": [
        {
          "output_type": "display_data",
          "data": {
            "image/png": "[encoded data removed]",
            "text/plain": [
              "<Figure size 1440x1080 with 20 Axes>"
            ]
          },
          "metadata": {
            "needs_background": "light"
          }
        }
      ]
    },
    {
      "cell_type": "code",
      "source": [
        "plt.figure(figsize=(12, 6))\n",
        "plt.plot(data['price'], data['squareMeters'])\n",
        "plt.xlabel('$Price$', fontsize=10)\n",
        "plt.ylabel('$Square Meters$', rotation=0, fontsize=10)\n",
        "plt.axis('auto')"
      ],
      "metadata": {
        "colab": {
          "base_uri": "https://localhost:8080/",
          "height": 407
        },
        "id": "9jnRjcxjG2jc",
        "outputId": "3d26391d-b188-42ca-d339-513d35fb57d5"
      },
      "execution_count": 554,
      "outputs": [
        {
          "output_type": "execute_result",
          "data": {
            "text/plain": [
              "(-489509.385, 10506594.084999999, -4906.5, 104994.5)"
            ]
          },
          "metadata": {},
          "execution_count": 554
        },
        {
          "output_type": "display_data",
          "data": {
            "image/png": "[encoded data removed]",
            "text/plain": [
              "<Figure size 864x432 with 1 Axes>"
            ]
          },
          "metadata": {
            "needs_background": "light"
          }
        }
      ]
    },
    {
      "cell_type": "code",
      "source": [
        "# Correlation\n",
        "corr_matrix = data.corr()\n",
        "corr_matrix['price'].sort_values(ascending=False)"
      ],
      "metadata": {
        "colab": {
          "base_uri": "https://localhost:8080/"
        },
        "id": "5BWkbJ-gH6Pe",
        "outputId": "4e2d89e3-8a24-4bf1-ade6-27308a896fce"
      },
      "execution_count": 555,
      "outputs": [
        {
          "output_type": "execute_result",
          "data": {
            "text/plain": [
              "price                1.000000\n",
              "squareMeters         0.999999\n",
              "numPrevOwners        0.016619\n",
              "numberOfRooms        0.009591\n",
              "cityPartRange        0.008813\n",
              "hasStormProtector    0.007496\n",
              "floors               0.001654\n",
              "attic               -0.000600\n",
              "hasGuestRoom        -0.000644\n",
              "cityCode            -0.001539\n",
              "hasStorageRoom      -0.003485\n",
              "basement            -0.003967\n",
              "hasPool             -0.005070\n",
              "hasYard             -0.006119\n",
              "made                -0.007210\n",
              "isNewBuilt          -0.010643\n",
              "garage              -0.017229\n",
              "Name: price, dtype: float64"
            ]
          },
          "metadata": {},
          "execution_count": 555
        }
      ]
    },
    {
      "cell_type": "code",
      "source": [
        "# Preprocessing\n",
        "from sklearn.preprocessing import StandardScaler\n",
        "\n",
        "data['totalRoom'] = data['numberOfRooms'] + data['hasGuestRoom']\n",
        "data = data.drop(['numberOfRooms', 'hasGuestRoom', 'made', 'attic', 'cityCode'], axis=1)\n",
        "\n",
        "X = data.drop('price', axis=1)\n",
        "y = data['price']\n",
        "\n",
        "std = StandardScaler()\n",
        "X = std.fit_transform(X)"
      ],
      "metadata": {
        "id": "4VUVyJjIU6ft"
      },
      "execution_count": 556,
      "outputs": []
    },
    {
      "cell_type": "code",
      "source": [
        "feature = data.columns.values\n",
        "feature"
      ],
      "metadata": {
        "colab": {
          "base_uri": "https://localhost:8080/"
        },
        "id": "pW6cNKr8ynY-",
        "outputId": "235f699b-e081-4076-817f-9d68cadde6da"
      },
      "execution_count": 577,
      "outputs": [
        {
          "output_type": "execute_result",
          "data": {
            "text/plain": [
              "array(['squareMeters', 'hasYard', 'hasPool', 'floors', 'cityPartRange',\n",
              "       'numPrevOwners', 'isNewBuilt', 'hasStormProtector', 'basement',\n",
              "       'garage', 'hasStorageRoom', 'price', 'totalRoom'], dtype=object)"
            ]
          },
          "metadata": {},
          "execution_count": 577
        }
      ]
    },
    {
      "cell_type": "code",
      "source": [
        "# Train test set\n",
        "import numpy as np\n",
        "\n",
        "def train_valid_test_split(data, valid_ratio, test_ratio):\n",
        "    np.random.seed(10)\n",
        "    total_size = len(data)\n",
        "    test_size = int(test_ratio * total_size)\n",
        "    valid_size = int(valid_ratio * total_size)\n",
        "    train_size = total_size - test_size - valid_size\n",
        "    shuffle_indices = np.random.permutation(total_size)\n",
        "    train_set = shuffle_indices[:train_size]\n",
        "    valid_set = shuffle_indices[train_size:train_size+valid_size]\n",
        "    test_set = shuffle_indices[-test_size:]\n",
        "    return data[train_set], data[valid_set], data[test_set]\n",
        "\n",
        "def train_test_split(data, test_ratio):\n",
        "    np.random.seed(10)\n",
        "    total_size = len(data)\n",
        "    test_size = int(test_ratio * total_size)\n",
        "    shuffle_indices = np.random.permutation(total_size)\n",
        "    train_set = shuffle_indices[:-test_size]\n",
        "    test_set = shuffle_indices[-test_size:]\n",
        "    return data[train_set], data[test_set]"
      ],
      "metadata": {
        "id": "YEX6_2eyJZtv"
      },
      "execution_count": 557,
      "outputs": []
    },
    {
      "cell_type": "code",
      "source": [
        "# X_train, X_valid, X_test = train_valid_test_split(X, 0.2, 0.2)\n",
        "# y_train, y_valid, y_test = train_valid_test_split(y, 0.2, 0.2)\n",
        "\n",
        "X_train, X_test = train_test_split(X, 0.2)\n",
        "y_train, y_test = train_test_split(y, 0.2)"
      ],
      "metadata": {
        "id": "DjBGils_K_Nb"
      },
      "execution_count": 558,
      "outputs": []
    },
    {
      "cell_type": "code",
      "source": [
        "######## Train model using sklearn ###########\n",
        "from sklearn.linear_model import LinearRegression\n",
        "\n",
        "lin_reg = LinearRegression()\n",
        "lin_reg.fit(X_train, y_train)"
      ],
      "metadata": {
        "colab": {
          "base_uri": "https://localhost:8080/"
        },
        "id": "JLPS9kS3ftQG",
        "outputId": "56286c0e-3991-432d-da1e-f0e392c908f3"
      },
      "execution_count": 559,
      "outputs": [
        {
          "output_type": "execute_result",
          "data": {
            "text/plain": [
              "LinearRegression()"
            ]
          },
          "metadata": {},
          "execution_count": 559
        }
      ]
    },
    {
      "cell_type": "code",
      "source": [
        "lin_reg.intercept_"
      ],
      "metadata": {
        "colab": {
          "base_uri": "https://localhost:8080/"
        },
        "id": "3I4vDfFagUyJ",
        "outputId": "a6d6ebe3-6562-4b9e-976e-698da263d1fb"
      },
      "execution_count": 560,
      "outputs": [
        {
          "output_type": "execute_result",
          "data": {
            "text/plain": [
              "4993443.346557731"
            ]
          },
          "metadata": {},
          "execution_count": 560
        }
      ]
    },
    {
      "cell_type": "code",
      "source": [
        "lin_reg.coef_"
      ],
      "metadata": {
        "colab": {
          "base_uri": "https://localhost:8080/"
        },
        "id": "6zsN8aS-gZNj",
        "outputId": "2ce737b5-1485-4d9f-da96-0e329689295f"
      },
      "execution_count": 561,
      "outputs": [
        {
          "output_type": "execute_result",
          "data": {
            "text/plain": [
              "array([ 2.87728689e+06,  1.50202339e+03,  1.48845101e+03,  1.56379670e+03,\n",
              "        1.34409116e+02, -2.90420260e+00,  8.18202621e+01,  7.16601205e+01,\n",
              "       -3.96308998e+00,  1.77630340e+01,  1.40494968e+01, -1.10845632e+00])"
            ]
          },
          "metadata": {},
          "execution_count": 561
        }
      ]
    },
    {
      "cell_type": "code",
      "source": [
        "# Evaluation using cross-validation\n",
        "from sklearn.model_selection import cross_val_score\n",
        "score = cross_val_score(lin_reg, X_train, y_train, scoring='neg_mean_squared_error', cv=10)\n",
        "lin_rmse_score = np.sqrt(-score)\n",
        "lin_rmse_score.mean()"
      ],
      "metadata": {
        "colab": {
          "base_uri": "https://localhost:8080/"
        },
        "id": "J0AMEIYJhPAb",
        "outputId": "c61987f6-db62-4a89-a334-d0b828a9b094"
      },
      "execution_count": 562,
      "outputs": [
        {
          "output_type": "execute_result",
          "data": {
            "text/plain": [
              "1904.0520065211022"
            ]
          },
          "metadata": {},
          "execution_count": 562
        }
      ]
    },
    {
      "cell_type": "code",
      "source": [
        "# Evaluation on the test set with sklearn\n",
        "from sklearn.metrics import mean_squared_error\n",
        "y_predict = lin_reg.predict(X_test)\n",
        "lin_mse = mean_squared_error(y_test, y_predict)\n",
        "lin_rmse = np.sqrt(lin_mse)\n",
        "lin_rmse"
      ],
      "metadata": {
        "colab": {
          "base_uri": "https://localhost:8080/"
        },
        "id": "66DWYOjLiFV-",
        "outputId": "c74fc888-5644-4426-e810-a4ab7f8bd35c"
      },
      "execution_count": 563,
      "outputs": [
        {
          "output_type": "execute_result",
          "data": {
            "text/plain": [
              "1886.1034068532063"
            ]
          },
          "metadata": {},
          "execution_count": 563
        }
      ]
    },
    {
      "cell_type": "code",
      "source": [
        "###### Gradient descent #######\n",
        "np.random.seed(10)\n",
        "eta = 0.01\n",
        "m = len(X_train)\n",
        "n_iterations = 1001\n",
        "\n",
        "X_with_bias = np.c_[np.ones((len(X_train), 1)), X_train]\n",
        "theta = np.random.randn(X_with_bias.shape[1])\n",
        "\n",
        "for iteration in range(n_iterations):\n",
        "    if iteration % 100 == 0:\n",
        "        loss = np.sqrt(mean_squared_error(y_train, X_with_bias.dot(theta)))\n",
        "        print(iteration, loss)\n",
        "    gradients = 2/m * X_with_bias.T.dot(X_with_bias.dot(theta) - y_train)\n",
        "    theta = theta - eta*gradients"
      ],
      "metadata": {
        "colab": {
          "base_uri": "https://localhost:8080/"
        },
        "id": "VMxVae1djH4h",
        "outputId": "c98f0105-6cd6-4167-dd58-1264746ba187"
      },
      "execution_count": 564,
      "outputs": [
        {
          "output_type": "stream",
          "name": "stdout",
          "text": [
            "0 5753319.974222019\n",
            "100 769526.2075522521\n",
            "200 103578.55957163317\n",
            "300 14146.62011157211\n",
            "400 2692.790425525108\n",
            "500 1917.9867818248244\n",
            "600 1900.47812176215\n",
            "700 1900.1457143196255\n",
            "800 1900.1393752073047\n",
            "900 1900.1392533031703\n",
            "1000 1900.139250940382\n"
          ]
        }
      ]
    },
    {
      "cell_type": "code",
      "source": [
        "theta"
      ],
      "metadata": {
        "colab": {
          "base_uri": "https://localhost:8080/"
        },
        "id": "R6lgdo8yj1Jv",
        "outputId": "c0e315aa-2a21-4a00-f38f-2985377e10d8"
      },
      "execution_count": 565,
      "outputs": [
        {
          "output_type": "execute_result",
          "data": {
            "text/plain": [
              "array([ 4.99344334e+06,  2.87728688e+06,  1.50202100e+03,  1.48845076e+03,\n",
              "        1.56379708e+03,  1.34411304e+02, -2.90260635e+00,  8.18202949e+01,\n",
              "        7.16618200e+01, -3.96278485e+00,  1.77588615e+01,  1.40505717e+01,\n",
              "       -1.10903952e+00])"
            ]
          },
          "metadata": {},
          "execution_count": 565
        }
      ]
    },
    {
      "cell_type": "code",
      "source": [
        "# Evaluations test set with gradient descent\n",
        "X_test_with_bias = np.c_[np.ones((len(X_test), 1)), X_test]\n",
        "y_predict = X_test_with_bias.dot(theta)\n",
        "gd_mse = mean_squared_error(y_test, y_predict)\n",
        "gd_rmse = np.sqrt(gd_mse)\n",
        "gd_rmse"
      ],
      "metadata": {
        "colab": {
          "base_uri": "https://localhost:8080/"
        },
        "id": "bDP5xJ4tkFIM",
        "outputId": "23c72b2c-f2c3-4d07-b0d2-0e75a6160602"
      },
      "execution_count": 566,
      "outputs": [
        {
          "output_type": "execute_result",
          "data": {
            "text/plain": [
              "1886.1038153238587"
            ]
          },
          "metadata": {},
          "execution_count": 566
        }
      ]
    },
    {
      "cell_type": "code",
      "source": [
        "def concatenate_with_bias(train, val, test):\n",
        "    return np.c_[np.ones((len(train), 1)), train], np.c_[np.ones((len(val), 1)), val], np.c_[np.ones((len(test), 1)), test]"
      ],
      "metadata": {
        "id": "vbfwOuENoVBF"
      },
      "execution_count": 567,
      "outputs": []
    },
    {
      "cell_type": "code",
      "source": [
        "###### Early stopping #########\n",
        "\n",
        "X_train, X_valid, X_test = train_valid_test_split(X, 0.1, 0.2)\n",
        "y_train, y_valid, y_test = train_valid_test_split(y, 0.1, 0.2)\n",
        "\n",
        "X_train_with_bias, X_valid_with_bias, X_test_with_bias = concatenate_with_bias(X_train, X_valid, X_test)\n",
        "np.random.seed(10)\n",
        "eta = 0.01\n",
        "n_iterations  = 1001\n",
        "best_loss = np.infty\n",
        "m = len(X_train)\n",
        "\n",
        "theta = np.random.randn(X_train_with_bias.shape[1])\n",
        "\n",
        "for iteration in range(n_iterations):\n",
        "    gradients = 2/m * X_train_with_bias.T.dot(X_train_with_bias.dot(theta) - y_train)\n",
        "    theta = theta - eta * gradients\n",
        "    \n",
        "    mse_loss = mean_squared_error(y_valid, X_valid_with_bias.dot(theta))\n",
        "    loss = np.sqrt(mse_loss)\n",
        "\n",
        "    if iteration % 10 == 0:\n",
        "        print(iteration, loss)\n",
        "    if loss < best_loss:\n",
        "        best_loss = loss\n",
        "    else:\n",
        "        print(iteration - 1, best_loss)\n",
        "        print(iteration, loss, 'early stopping!')\n",
        "        break\n"
      ],
      "metadata": {
        "colab": {
          "base_uri": "https://localhost:8080/"
        },
        "id": "o5L_p3cNl-gC",
        "outputId": "9349970d-10df-47d2-be2f-f15381236282"
      },
      "execution_count": 568,
      "outputs": [
        {
          "output_type": "stream",
          "name": "stdout",
          "text": [
            "0 5453408.381915967\n",
            "10 4452495.908540931\n",
            "20 3635653.9009175734\n",
            "30 2968964.242237921\n",
            "40 2424771.12400922\n",
            "50 1980522.580825351\n",
            "60 1617826.741481029\n",
            "70 1321682.9248261107\n",
            "80 1079855.1262923838\n",
            "90 882361.4761747039\n",
            "100 721058.1615885291\n",
            "110 589300.3003728999\n",
            "120 481665.5076569913\n",
            "130 393728.5430770864\n",
            "140 321877.5815254908\n",
            "150 263164.4045767186\n",
            "160 215182.2379884594\n",
            "170 175966.1236123614\n",
            "180 143911.6610493134\n",
            "190 117708.72561673846\n",
            "200 96287.39734629112\n",
            "210 78773.84739504482\n",
            "220 64454.34507424818\n",
            "230 52745.888289876915\n",
            "240 43172.23688114354\n",
            "250 35344.353798718985\n",
            "260 28944.44276763629\n",
            "270 23712.920734514533\n",
            "280 19437.785247360334\n",
            "290 15945.935990487254\n",
            "300 13096.090014090683\n",
            "310 10772.994914348114\n",
            "320 8882.695777606039\n",
            "330 7348.652042664591\n",
            "340 6108.531442016327\n",
            "350 5111.532619524939\n",
            "360 4316.111113782869\n",
            "370 3688.0142515745924\n",
            "380 3198.5799388620894\n",
            "390 2823.3233590985014\n",
            "400 2540.895914138771\n",
            "410 2332.4942060563662\n",
            "420 2181.689515522989\n",
            "430 2074.501490487625\n",
            "440 1999.4783350021362\n",
            "450 1947.621104145199\n",
            "460 1912.1258999461509\n",
            "470 1888.012101437894\n",
            "480 1871.7248089360698\n",
            "490 1860.7741642326052\n",
            "500 1853.439928726957\n",
            "510 1848.545083790315\n",
            "520 1845.2898054443954\n",
            "530 1843.133240546521\n",
            "540 1841.7109622383136\n",
            "550 1840.7780926418473\n",
            "560 1840.1704578572992\n",
            "570 1839.7782168957679\n",
            "580 1839.5280319333751\n",
            "590 1839.3710476133836\n",
            "600 1839.274803273765\n",
            "610 1839.2177997526871\n",
            "620 1839.1858541450683\n",
            "630 1839.169656992386\n",
            "640 1839.163137205542\n",
            "647 1839.1621664507495\n",
            "648 1839.1621989364128 early stopping!\n"
          ]
        }
      ]
    },
    {
      "cell_type": "code",
      "source": [
        "theta"
      ],
      "metadata": {
        "colab": {
          "base_uri": "https://localhost:8080/"
        },
        "id": "JevnLfgungCu",
        "outputId": "8a1ce442-e620-4f84-9fdf-771910a2eb4d"
      },
      "execution_count": 569,
      "outputs": [
        {
          "output_type": "execute_result",
          "data": {
            "text/plain": [
              "array([ 4.99344042e+06,  2.87726906e+06,  1.49563241e+03,  1.47576492e+03,\n",
              "        1.56919530e+03,  1.40151641e+02,  9.46511276e+00,  7.72768190e+01,\n",
              "        5.18376874e+01, -1.73682126e+01,  1.60651051e+01,  1.30077473e+00,\n",
              "       -1.20349970e+01])"
            ]
          },
          "metadata": {},
          "execution_count": 569
        }
      ]
    },
    {
      "cell_type": "code",
      "source": [
        "# Evaluations test set with early stopping\n",
        "y_predict = X_test_with_bias.dot(theta)\n",
        "et_mse = mean_squared_error(y_test, y_predict)\n",
        "et_rmse = np.sqrt(et_mse)\n",
        "et_rmse"
      ],
      "metadata": {
        "colab": {
          "base_uri": "https://localhost:8080/"
        },
        "id": "k5v7vpwytaQV",
        "outputId": "cea6afd9-40f4-4064-eadd-a951320f68ca"
      },
      "execution_count": 570,
      "outputs": [
        {
          "output_type": "execute_result",
          "data": {
            "text/plain": [
              "1886.691733633133"
            ]
          },
          "metadata": {},
          "execution_count": 570
        }
      ]
    },
    {
      "cell_type": "code",
      "source": [
        "lin_rmse, gd_rmse, et_rmse"
      ],
      "metadata": {
        "colab": {
          "base_uri": "https://localhost:8080/"
        },
        "id": "8_Lwq8ZewrC_",
        "outputId": "1b49c28c-d9e9-4789-b417-84d9d6c6cd04"
      },
      "execution_count": 571,
      "outputs": [
        {
          "output_type": "execute_result",
          "data": {
            "text/plain": [
              "(1886.1034068532063, 1886.1038153238587, 1886.691733633133)"
            ]
          },
          "metadata": {},
          "execution_count": 571
        }
      ]
    },
    {
      "cell_type": "code",
      "source": [
        "import joblib\n",
        "joblib.dump(lin_reg, 'my_lin_reg_model.pkl')"
      ],
      "metadata": {
        "colab": {
          "base_uri": "https://localhost:8080/"
        },
        "id": "31nv4_fAyMII",
        "outputId": "f49a9395-abab-4aac-f06d-8e1a14fce799"
      },
      "execution_count": 572,
      "outputs": [
        {
          "output_type": "execute_result",
          "data": {
            "text/plain": [
              "['my_lin_reg_model.pkl']"
            ]
          },
          "metadata": {},
          "execution_count": 572
        }
      ]
    },
    {
      "cell_type": "code",
      "source": [
        ""
      ],
      "metadata": {
        "id": "DNLQIcJzydvc"
      },
      "execution_count": null,
      "outputs": []
    }
  ]
}